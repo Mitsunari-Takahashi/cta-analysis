{
 "cells": [
  {
   "cell_type": "code",
   "execution_count": 1,
   "id": "e4695e76",
   "metadata": {},
   "outputs": [],
   "source": [
    "from LowLevelAnalysis import ConfigItem, ImageExtractorConfig, TailcutConfig, LowLevelAnalysis\n",
    "from LowLevelData import DL0Data\n",
    "\n",
    "import matplotlib\n",
    "import matplotlib.pyplot as plt\n",
    "from pylab import rcParams\n",
    "import math\n",
    "import numpy as np\n",
    "import numpy.ma as ma\n",
    "import os\n",
    "import pandas as pd\n",
    "import matplotlib.pyplot as plt\n",
    "from glob import glob\n",
    "from pathlib import Path\n",
    "import tables\n",
    "\n",
    "import astropy.units as u\n",
    "from astropy.io import fits\n",
    "from astropy.table import Table, vstack\n",
    "\n",
    "from traitlets.config.loader import Config\n",
    "from ctapipe_io_lst import LSTEventSource\n",
    "from ctapipe.instrument import CameraGeometry\n",
    "from ctapipe.visualization import CameraDisplay\n",
    "from ctapipe.image import hillas_parameters\n",
    "\n",
    "from lstchain.io.config import read_configuration_file\n",
    "import lstchain.reco.utils as utils\n",
    "from lstchain.reco import r0_to_dl1\n",
    "from lstchain.io.io import dl1_images_lstcam_key, dl1_params_tel_mon_ped_key, dl1_params_tel_mon_cal_key, dl1_params_lstcam_key, dl1_params_src_dep_lstcam_key\n",
    "\n",
    "from ctapipe.utils import get_dataset_path\n",
    "from ctapipe.io import EventSource\n",
    "from ctapipe.io.eventseeker import EventSeeker\n",
    "#import astropy.units as u\n",
    "#from copy import deepcopy\n",
    "\n",
    "from scipy.stats import binned_statistic\n",
    "\n"
   ]
  },
  {
   "cell_type": "code",
   "execution_count": 2,
   "id": "02859b7d",
   "metadata": {},
   "outputs": [],
   "source": [
    "from logging import getLogger,StreamHandler,DEBUG,INFO,WARNING,ERROR,CRITICAL\n",
    "\n",
    "##### Logger #####\n",
    "logger = getLogger(__name__)\n",
    "handler = StreamHandler()\n",
    "loglevel = 'INFO'\n",
    "handler.setLevel(loglevel)\n",
    "logger.setLevel(loglevel)\n",
    "logger.addHandler(handler)"
   ]
  },
  {
   "cell_type": "code",
   "execution_count": 3,
   "id": "69727adb",
   "metadata": {},
   "outputs": [
    {
     "name": "stderr",
     "output_type": "stream",
     "text": [
      "0.7.3.post19+gitdeabb5c\n"
     ]
    }
   ],
   "source": [
    "from lstchain import __version__ as lstchain_version\n",
    "logger.info(lstchain_version)"
   ]
  },
  {
   "cell_type": "code",
   "execution_count": 4,
   "id": "431fae01",
   "metadata": {},
   "outputs": [],
   "source": [
    "# Matplotlib setup\n",
    "plt.rcParams[\"font.size\"] = 13\n",
    "\n",
    "LINE_STYLES = [\"solid\", \"dashed\", \"dashdot\", \"dotted\"]\n",
    "MARKER_STYLES = ['o', 's', 'x', '+', 'D', 'X', 'p', 'd', '<', '>', '^', 'v', 'H']\n",
    "\n",
    "#plt.xkcd()"
   ]
  },
  {
   "cell_type": "code",
   "execution_count": 5,
   "id": "c1abb0ce",
   "metadata": {},
   "outputs": [],
   "source": [
    "# Replace OUTPUT_DIR_PATH by your directory\n",
    "OUTPUT_DIR_PATH = Path('/home/mitsunari.takahashi/Work/analysis/low-level/LowLevelAnalyses')\n",
    "if not OUTPUT_DIR_PATH.exists():\n",
    "    os.makedirs(OUTPUT_DIR_PATH)"
   ]
  },
  {
   "cell_type": "markdown",
   "id": "88861a21",
   "metadata": {},
   "source": [
    "# Config of Tailcut"
   ]
  },
  {
   "cell_type": "code",
   "execution_count": 6,
   "id": "7d2808ee",
   "metadata": {},
   "outputs": [],
   "source": [
    "tailcut_config = TailcutConfig({\"picture_thresh\":6, \"boundary_thresh\":3, \\\n",
    "                                \"sigma\":2.5, \"keep_isolated_pixels\":\"false\", \\\n",
    "                                \"min_number_picture_neighbors\":2, \\\n",
    "                                \"use_only_main_island\":\"false\", \\\n",
    "                                \"delta_time\":2})"
   ]
  },
  {
   "cell_type": "markdown",
   "id": "3d205df5",
   "metadata": {},
   "source": [
    "# Config of ImageExtracter"
   ]
  },
  {
   "cell_type": "markdown",
   "id": "95af88c3",
   "metadata": {},
   "source": [
    "## List of confugurations to evaluate  "
   ]
  },
  {
   "cell_type": "code",
   "execution_count": 7,
   "id": "3b9952c0",
   "metadata": {},
   "outputs": [],
   "source": [
    "image_extractor_configs = []\n",
    "\n",
    "# LocalPeakWindowSum\n",
    "for window_width in (5,):\n",
    "    window_shift = int(window_width/2)\n",
    "    image_extractor_configs.append(ImageExtractorConfig('LocalPeakWindowSum', \n",
    "                                                        {'window_shift':window_shift,\n",
    "                                                         'window_width':window_width,\n",
    "                                                         'apply_integration_correction':'true'}\n",
    "                                                       , abbreviation='LPWS'))\n",
    "    \n",
    "# NeighborPeakWindowSum\n",
    "for window_width in (5,):\n",
    "    window_shift = int(window_width/2)\n",
    "    for lwt in (0, ):#1):\n",
    "        image_extractor_configs.append(ImageExtractorConfig('NeighborPeakWindowSum', \n",
    "                                                            {'window_shift':window_shift, \n",
    "                                                             'window_width':window_width,\n",
    "                                                             'lwt':lwt,\n",
    "                                                             'apply_integration_correction':'true'}\n",
    "                                                       , abbreviation='NPWS'))\n",
    "        \n",
    "# SlidingWindowMaxSum\n",
    "for window_width in (5,):\n",
    "    image_extractor_configs.append(ImageExtractorConfig('SlidingWindowMaxSum', \n",
    "                                                        {'window_width':window_width,\n",
    "                                                         'apply_integration_correction':'true'}\n",
    "                                                       , abbreviation='SWMS'))\n",
    "\n",
    "# TwoPassWindowSum\n",
    "for core_threshold in (6,):\n",
    "    image_extractor_configs.append(ImageExtractorConfig('TwoPassWindowSum', \n",
    "                                                        {'core_threshold':core_threshold, \n",
    "                                                         'disable_second_pass':'false',\n",
    "                                                         'apply_integration_correction':'true'}\n",
    "                                                       , abbreviation='TPWS'))\n",
    "    \n",
    "# FullWaveformSum\n",
    "image_extractor_configs.append(ImageExtractorConfig('FullWaveformSum'\n",
    "                                                       , abbreviation='FWS'))"
   ]
  },
  {
   "cell_type": "code",
   "execution_count": 8,
   "id": "ecc4d43a",
   "metadata": {},
   "outputs": [
    {
     "name": "stderr",
     "output_type": "stream",
     "text": [
      "{'__IMAGE_EXTRACTOR__': 'LocalPeakWindowSum', '__IMAGE_EXTRACTOR_PARAMETER_BLOCK__': '\"LocalPeakWindowSum\":{\\n    \"window_shift\": 2,\\n    \"window_width\": 5,\\n    \"apply_integration_correction\": true\\n  },'}\n",
      "{'__TAILCUT__': '  \"tailcut\": {\\n    \"picture_thresh\":6,\\n    \"boundary_thresh\":3,\\n    \"keep_isolated_pixels\":false,\\n    \"min_number_picture_neighbors\":2,\\n    \"use_only_main_island\":false,\\n    \"delta_time\":2\\n},\\n', '__TAILCUTS_CLEAN_WITH_PEDESTAL_THRESHOLD__': '  \"tailcuts_clean_with_pedestal_threshold\": {\\n    \"picture_thresh\":6,\\n    \"boundary_thresh\":3,\\n    \"sigma\":2.5,\\n    \"keep_isolated_pixels\":false,\\n    \"min_number_picture_neighbors\":2,\\n    \"use_only_main_island\":false,\\n    \"delta_time\":2\\n},\\n'}\n",
      "{'__IMAGE_EXTRACTOR__': 'NeighborPeakWindowSum', '__IMAGE_EXTRACTOR_PARAMETER_BLOCK__': '\"NeighborPeakWindowSum\":{\\n    \"window_shift\": 2,\\n    \"window_width\": 5,\\n    \"lwt\": 0,\\n    \"apply_integration_correction\": true\\n  },'}\n",
      "{'__TAILCUT__': '  \"tailcut\": {\\n    \"picture_thresh\":6,\\n    \"boundary_thresh\":3,\\n    \"keep_isolated_pixels\":false,\\n    \"min_number_picture_neighbors\":2,\\n    \"use_only_main_island\":false,\\n    \"delta_time\":2\\n},\\n', '__TAILCUTS_CLEAN_WITH_PEDESTAL_THRESHOLD__': '  \"tailcuts_clean_with_pedestal_threshold\": {\\n    \"picture_thresh\":6,\\n    \"boundary_thresh\":3,\\n    \"sigma\":2.5,\\n    \"keep_isolated_pixels\":false,\\n    \"min_number_picture_neighbors\":2,\\n    \"use_only_main_island\":false,\\n    \"delta_time\":2\\n},\\n'}\n",
      "{'__IMAGE_EXTRACTOR__': 'SlidingWindowMaxSum', '__IMAGE_EXTRACTOR_PARAMETER_BLOCK__': '\"SlidingWindowMaxSum\":{\\n    \"window_width\": 5,\\n    \"apply_integration_correction\": true\\n  },'}\n",
      "{'__TAILCUT__': '  \"tailcut\": {\\n    \"picture_thresh\":6,\\n    \"boundary_thresh\":3,\\n    \"keep_isolated_pixels\":false,\\n    \"min_number_picture_neighbors\":2,\\n    \"use_only_main_island\":false,\\n    \"delta_time\":2\\n},\\n', '__TAILCUTS_CLEAN_WITH_PEDESTAL_THRESHOLD__': '  \"tailcuts_clean_with_pedestal_threshold\": {\\n    \"picture_thresh\":6,\\n    \"boundary_thresh\":3,\\n    \"sigma\":2.5,\\n    \"keep_isolated_pixels\":false,\\n    \"min_number_picture_neighbors\":2,\\n    \"use_only_main_island\":false,\\n    \"delta_time\":2\\n},\\n'}\n",
      "{'__IMAGE_EXTRACTOR__': 'TwoPassWindowSum', '__IMAGE_EXTRACTOR_PARAMETER_BLOCK__': '\"TwoPassWindowSum\":{\\n    \"core_threshold\": 6,\\n    \"disable_second_pass\": false,\\n    \"apply_integration_correction\": true\\n  },'}\n",
      "{'__TAILCUT__': '  \"tailcut\": {\\n    \"picture_thresh\":6,\\n    \"boundary_thresh\":3,\\n    \"keep_isolated_pixels\":false,\\n    \"min_number_picture_neighbors\":2,\\n    \"use_only_main_island\":false,\\n    \"delta_time\":2\\n},\\n', '__TAILCUTS_CLEAN_WITH_PEDESTAL_THRESHOLD__': '  \"tailcuts_clean_with_pedestal_threshold\": {\\n    \"picture_thresh\":6,\\n    \"boundary_thresh\":3,\\n    \"sigma\":2.5,\\n    \"keep_isolated_pixels\":false,\\n    \"min_number_picture_neighbors\":2,\\n    \"use_only_main_island\":false,\\n    \"delta_time\":2\\n},\\n'}\n",
      "{'__IMAGE_EXTRACTOR__': 'FullWaveformSum', '__IMAGE_EXTRACTOR_PARAMETER_BLOCK__': '\"FullWaveformSum\":{\\n\\n  },'}\n",
      "{'__TAILCUT__': '  \"tailcut\": {\\n    \"picture_thresh\":6,\\n    \"boundary_thresh\":3,\\n    \"keep_isolated_pixels\":false,\\n    \"min_number_picture_neighbors\":2,\\n    \"use_only_main_island\":false,\\n    \"delta_time\":2\\n},\\n', '__TAILCUTS_CLEAN_WITH_PEDESTAL_THRESHOLD__': '  \"tailcuts_clean_with_pedestal_threshold\": {\\n    \"picture_thresh\":6,\\n    \"boundary_thresh\":3,\\n    \"sigma\":2.5,\\n    \"keep_isolated_pixels\":false,\\n    \"min_number_picture_neighbors\":2,\\n    \"use_only_main_island\":false,\\n    \"delta_time\":2\\n},\\n'}\n"
     ]
    }
   ],
   "source": [
    "# Write the config files down     \n",
    "lowlevel_configs= []\n",
    "for ie in image_extractor_configs:\n",
    "    lowlevel_configs.append(LowLevelAnalysis(configs=[ie, tailcut_config], \n",
    "                                             output_dir_path=OUTPUT_DIR_PATH, \n",
    "                                             config_dir_path=OUTPUT_DIR_PATH))\n",
    "for c in lowlevel_configs:    \n",
    "    c.write_configfile()"
   ]
  },
  {
   "cell_type": "markdown",
   "id": "7a75d04e",
   "metadata": {},
   "source": [
    "# Shower event selection"
   ]
  },
  {
   "cell_type": "code",
   "execution_count": 9,
   "id": "d76382b5",
   "metadata": {},
   "outputs": [],
   "source": [
    "EMIN = 10 *u.GeV\n",
    "EMAX = 50 *u.GeV"
   ]
  },
  {
   "cell_type": "markdown",
   "id": "a41499ef",
   "metadata": {},
   "source": [
    "# MC DL0 data"
   ]
  },
  {
   "cell_type": "code",
   "execution_count": 10,
   "id": "abd29112",
   "metadata": {},
   "outputs": [],
   "source": [
    "dl0_paths = [Path('/fefs/aswg/data/mc/DL0/20200629_prod5_trans_80/proton/zenith_20deg/south_pointing/proton_20deg_180deg_run1___cta-prod5-lapalma_4LSTs_MAGIC_desert-2158m_mono.simtel.gz'),\n",
    "             Path('/fefs/aswg/data/mc/DL0/20200629_prod5_trans_80/proton/zenith_20deg/south_pointing/proton_20deg_180deg_run2___cta-prod5-lapalma_4LSTs_MAGIC_desert-2158m_mono.simtel.gz')]\n",
    "\n",
    "#dl0_path = Path('/fefs/aswg/workspace/yoshiki.ohtani/Data/LaPalma/4LSTs_MAGIC/gamma-diffuse/zenith_20deg/south_pointing/run1000/sim_telarray_v3_trans_80%/cta-prod5-lapalma_4LSTs_MAGIC/0.0deg/Data/gamma_20deg_180deg_run1000___cta-prod5-lapalma_4LSTs_MAGIC_desert-2158m_mono_cone6.simtel.gz')\n",
    "#dl0_path = Path('/fefs/aswg/data/mc/DL0/20200629_prod5/gamma-diffuse/zenith_20deg/south_pointing/gamma_20deg_180deg_run1___cta-prod5-lapalma_4LSTs_MAGIC_desert-2158m_mono_cone6.simtel.gz')"
   ]
  },
  {
   "cell_type": "code",
   "execution_count": 11,
   "id": "464631fc",
   "metadata": {},
   "outputs": [],
   "source": [
    "tel_id = 1 #LST-1\n",
    "allowed_tels = {tel_id}"
   ]
  },
  {
   "cell_type": "code",
   "execution_count": 12,
   "id": "091dc92e",
   "metadata": {},
   "outputs": [
    {
     "name": "stderr",
     "output_type": "stream",
     "text": [
      "Adding [PosixPath('/fefs/aswg/data/mc/DL0/20200629_prod5_trans_80/proton/zenith_20deg/south_pointing/proton_20deg_180deg_run1___cta-prod5-lapalma_4LSTs_MAGIC_desert-2158m_mono.simtel.gz'), PosixPath('/fefs/aswg/data/mc/DL0/20200629_prod5_trans_80/proton/zenith_20deg/south_pointing/proton_20deg_180deg_run2___cta-prod5-lapalma_4LSTs_MAGIC_desert-2158m_mono.simtel.gz')]...\n",
      "29 events has been added.\n"
     ]
    }
   ],
   "source": [
    "dl0_data = DL0Data(name='MC Proton', tel_id=tel_id)\n",
    "dl0_data.add_files(file_paths=dl0_paths)"
   ]
  },
  {
   "cell_type": "markdown",
   "id": "340fabfb",
   "metadata": {},
   "source": [
    "# DL1 data"
   ]
  },
  {
   "cell_type": "code",
   "execution_count": 13,
   "id": "17ef7bf3",
   "metadata": {},
   "outputs": [
    {
     "name": "stderr",
     "output_type": "stream",
     "text": [
      "LocalPeakWindowSum_window_shift2_window_width5_apply_integration_correctiontrue_Tailcut_picture_thresh6_boundary_thresh3_sigma2.5_keep_isolated_pixelsfalse_min_number_picture_neighbors2_use_only_main_islandfalse_delta_time2\n",
      "/home/mitsunari.takahashi/Work/analysis/low-level/LowLevelAnalyses/LocalPeakWindowSum_window_shift2_window_width5_apply_integration_correctiontrue_Tailcut_picture_thresh6_boundary_thresh3_sigma2.5_keep_isolated_pixelsfalse_min_number_picture_neighbors2_use_only_main_islandfalse_delta_time2/dl1_proton_20deg_180deg_run1___cta-prod5-lapalma_4LSTs_MAGIC_desert-2158m_mono.h5 already exists! It was modified 4 hr 23 min before.\n",
      "\n",
      "Found duplicated column obs_id, skipping\n",
      "Found duplicated column event_id, skipping\n",
      "\n",
      "NeighborPeakWindowSum_window_shift2_window_width5_lwt0_apply_integration_correctiontrue_Tailcut_picture_thresh6_boundary_thresh3_sigma2.5_keep_isolated_pixelsfalse_min_number_picture_neighbors2_use_only_main_islandfalse_delta_time2\n",
      "/home/mitsunari.takahashi/Work/analysis/low-level/LowLevelAnalyses/NeighborPeakWindowSum_window_shift2_window_width5_lwt0_apply_integration_correctiontrue_Tailcut_picture_thresh6_boundary_thresh3_sigma2.5_keep_isolated_pixelsfalse_min_number_picture_neighbors2_use_only_main_islandfalse_delta_time2/dl1_proton_20deg_180deg_run1___cta-prod5-lapalma_4LSTs_MAGIC_desert-2158m_mono.h5 already exists! It was modified 4 hr 23 min before.\n",
      "\n",
      "/home/mitsunari.takahashi/miniconda3/envs/lst-dev/lib/python3.7/site-packages/numba/np/ufunc/parallel.py:365: NumbaWarning: The TBB threading layer requires TBB version 2019.5 or later i.e., TBB_INTERFACE_VERSION >= 11005. Found TBB_INTERFACE_VERSION = 6103. The TBB threading layer is disabled.\n",
      "  warnings.warn(problem)\n",
      "Found duplicated column obs_id, skipping\n",
      "Found duplicated column event_id, skipping\n",
      "\n",
      "SlidingWindowMaxSum_window_width5_apply_integration_correctiontrue_Tailcut_picture_thresh6_boundary_thresh3_sigma2.5_keep_isolated_pixelsfalse_min_number_picture_neighbors2_use_only_main_islandfalse_delta_time2\n",
      "/home/mitsunari.takahashi/Work/analysis/low-level/LowLevelAnalyses/SlidingWindowMaxSum_window_width5_apply_integration_correctiontrue_Tailcut_picture_thresh6_boundary_thresh3_sigma2.5_keep_isolated_pixelsfalse_min_number_picture_neighbors2_use_only_main_islandfalse_delta_time2/dl1_proton_20deg_180deg_run1___cta-prod5-lapalma_4LSTs_MAGIC_desert-2158m_mono.h5 already exists! It was modified 4 hr 23 min before.\n",
      "\n",
      "Found duplicated column obs_id, skipping\n",
      "Found duplicated column event_id, skipping\n",
      "\n",
      "TwoPassWindowSum_core_threshold6_disable_second_passfalse_apply_integration_correctiontrue_Tailcut_picture_thresh6_boundary_thresh3_sigma2.5_keep_isolated_pixelsfalse_min_number_picture_neighbors2_use_only_main_islandfalse_delta_time2\n",
      "/home/mitsunari.takahashi/Work/analysis/low-level/LowLevelAnalyses/TwoPassWindowSum_core_threshold6_disable_second_passfalse_apply_integration_correctiontrue_Tailcut_picture_thresh6_boundary_thresh3_sigma2.5_keep_isolated_pixelsfalse_min_number_picture_neighbors2_use_only_main_islandfalse_delta_time2/dl1_proton_20deg_180deg_run1___cta-prod5-lapalma_4LSTs_MAGIC_desert-2158m_mono.h5 already exists! It was modified 4 hr 23 min before.\n",
      "\n",
      "Found duplicated column obs_id, skipping\n",
      "Found duplicated column event_id, skipping\n",
      "\n",
      "FullWaveformSum_Tailcut_picture_thresh6_boundary_thresh3_sigma2.5_keep_isolated_pixelsfalse_min_number_picture_neighbors2_use_only_main_islandfalse_delta_time2\n",
      "/home/mitsunari.takahashi/Work/analysis/low-level/LowLevelAnalyses/FullWaveformSum_Tailcut_picture_thresh6_boundary_thresh3_sigma2.5_keep_isolated_pixelsfalse_min_number_picture_neighbors2_use_only_main_islandfalse_delta_time2/dl1_proton_20deg_180deg_run1___cta-prod5-lapalma_4LSTs_MAGIC_desert-2158m_mono.h5 already exists! It was modified 4 hr 23 min before.\n",
      "\n",
      "Found duplicated column obs_id, skipping\n",
      "Found duplicated column event_id, skipping\n",
      "\n"
     ]
    }
   ],
   "source": [
    "for lowlevel_config in lowlevel_configs:\n",
    "    logger.info(lowlevel_config.name)\n",
    "    for dl0_path in dl0_data.file_paths:\n",
    "        dl1_production_result = lowlevel_config.produce_mc_dl1(dl0_path=dl0_path)\n",
    "        if dl1_production_result!=0:\n",
    "            logger.error('Producing DL1 file failed!!')"
   ]
  },
  {
   "cell_type": "markdown",
   "id": "17dab30d",
   "metadata": {},
   "source": [
    "## DL1 Data Readout"
   ]
  },
  {
   "cell_type": "code",
   "execution_count": null,
   "id": "83c2f967",
   "metadata": {},
   "outputs": [],
   "source": [
    "HILLASES_OF_INTEREST = ['intensity', 'length', 'width']"
   ]
  },
  {
   "cell_type": "code",
   "execution_count": null,
   "id": "e83ce827",
   "metadata": {},
   "outputs": [],
   "source": [
    "for lowlevel_config in lowlevel_configs:\n",
    "    lowlevel_config.read_dl1(event_used, tel_id=1, hillas_parameters=HILLASES_OF_INTEREST)#emin=EMIN, emax=EMAX)\n",
    "    if len(lowlevel_config.dl1_reco_phe)!=len(true_phe):\n",
    "        logger.critical('The pulse number of DL0 and DL1 does not match!!!')"
   ]
  },
  {
   "cell_type": "code",
   "execution_count": null,
   "id": "df8673eb",
   "metadata": {},
   "outputs": [],
   "source": [
    "for lowlevel_config in lowlevel_configs:\n",
    "    lowlevel_config.calc_correlations(true_phe)"
   ]
  },
  {
   "cell_type": "markdown",
   "id": "8f88c55c",
   "metadata": {},
   "source": [
    "# Plot"
   ]
  },
  {
   "cell_type": "code",
   "execution_count": null,
   "id": "48dfc9e3",
   "metadata": {
    "scrolled": true
   },
   "outputs": [],
   "source": [
    "lowlevel_config_benchmark = lowlevel_configs[0]\n",
    "\n",
    "fig, axes = plt.subplots(6, 2, figsize=(10, 25))\n",
    "fig.suptitle('True shower energy: {0:.1f}-{1:.1f} GeV'.format(EMIN.to(u.GeV).value, EMAX.to(u.GeV).value), fontsize=16)\n",
    "for i, lowlevel_config in enumerate(lowlevel_configs):\n",
    "    \n",
    "    iax = 0\n",
    "    \n",
    "    # Linear X-axis\n",
    "    xvalues = (lowlevel_config.reco_stats['mean'][1][:-1])\n",
    "    \n",
    "    # Log X-axis    \n",
    "    logxvalues = (lowlevel_config.reco_stats_log['mean'][1][:-1])\n",
    "        \n",
    "    # Event count \n",
    "    axes[iax][0].errorbar(xvalues, \\\n",
    "                          lowlevel_config.reco_stats['count'][0], \\\n",
    "                          yerr=np.sqrt(lowlevel_config.reco_stats['count'][0]), \\\n",
    "                          fmt=MARKER_STYLES[i%len(MARKER_STYLES)], \\\n",
    "                          label=lowlevel_config.abbreviation)\n",
    "    axes[iax][0].grid(True, which='major', axis='both')\n",
    "    axes[iax][0].set_yscale('log')\n",
    "    axes[iax][0].set_xlim(-1, 10)\n",
    "    axes[iax][0].set_ylim(100, 1e7)\n",
    "    axes[iax][0].set_xlabel(r'$n_{true}$ [phe]')\n",
    "    axes[iax][0].set_ylabel('[events]')\n",
    "    #axes[iax][0].legend(loc=0)\n",
    "\n",
    "\n",
    "    axes[iax][1].errorbar(logxvalues, \\\n",
    "                          lowlevel_config.reco_stats_log['count'][0], \\\n",
    "                          yerr=np.sqrt(lowlevel_config.reco_stats_log['count'][0]), \\\n",
    "                          fmt=MARKER_STYLES[i%len(MARKER_STYLES)], \\\n",
    "                          label=lowlevel_config.abbreviation)\n",
    "    axes[iax][1].set_xscale('log')\n",
    "    axes[iax][1].set_yscale('log')\n",
    "    axes[iax][1].set_xlim(1, 1000)\n",
    "    #axes[iax][1].set_ylim(1, 1000)\n",
    "    axes[iax][1].grid(True, which='both', axis='both')\n",
    "    axes[iax][1].set_xlabel(r'$n_{true} [phe]$')\n",
    "    axes[iax][1].set_ylabel('[events]')\n",
    "                         \n",
    "    iax += 1\n",
    "        \n",
    "    axes[iax][0].errorbar(xvalues, \\\n",
    "                          lowlevel_config.reco_stats['mean'][0], \\\n",
    "                          yerr=lowlevel_config.reco_stats['std'][0]/np.sqrt(lowlevel_config.reco_stats['count'][0]), \\\n",
    "                          fmt=MARKER_STYLES[i%len(MARKER_STYLES)], \\\n",
    "                          label=lowlevel_config.abbreviation)\n",
    "    axes[iax][0].grid(True, which='both', axis='both')\n",
    "    axes[iax][0].set_yscale('log')\n",
    "    axes[iax][0].set_xlim(-1, 10)\n",
    "    axes[iax][0].set_ylim(-1, 10)\n",
    "    axes[iax][0].set_xlabel(r'$n_{true} [phe]$')\n",
    "    axes[iax][0].set_ylabel(r'$<n_{reco}>$ [phe]')\n",
    "    axes[iax][0].legend(loc=0)\n",
    "\n",
    "\n",
    "    axes[iax][1].errorbar(logxvalues, \\\n",
    "                          lowlevel_config.reco_stats_log['mean'][0], \\\n",
    "                          yerr=lowlevel_config.reco_stats_log['std'][0]/np.sqrt(lowlevel_config.reco_stats_log['count'][0]), \\\n",
    "                          fmt=MARKER_STYLES[i%len(MARKER_STYLES)], \\\n",
    "                          label=lowlevel_config.abbreviation)\n",
    "    axes[iax][1].set_xscale('log')\n",
    "    axes[iax][1].set_yscale('log')\n",
    "    axes[iax][1].set_xlim(1, 1000)\n",
    "    axes[iax][1].set_ylim(1, 1000)\n",
    "    axes[iax][1].grid(True, which='both', axis='both')\n",
    "    axes[iax][1].set_xlabel(r'$n_{true}$ [phe]')\n",
    "    axes[iax][1].set_ylabel(r'$<n_{reco}>$ [phe]')\n",
    "                         \n",
    "    iax += 1\n",
    "\n",
    "    axes[iax][0].errorbar(xvalues[1:], \\\n",
    "                          lowlevel_config.reco_frac_stats['mean'][0][1:], \\\n",
    "                          yerr=lowlevel_config.reco_frac_stats['std'][0][1:]/np.sqrt(lowlevel_config.reco_frac_stats['count'][0][1:]), \\\n",
    "                          fmt=MARKER_STYLES[i%len(MARKER_STYLES)], \\\n",
    "                    label=lowlevel_config.abbreviation)\n",
    "    axes[iax][0].grid(True, which='both', axis='both')\n",
    "    axes[iax][0].set_xlim(-1, 10)\n",
    "    axes[iax][0].set_ylim(0, 3)\n",
    "    axes[iax][0].set_xlabel(r'$n_{true}$ [phe]')\n",
    "    axes[iax][0].set_ylabel(r'$<n_{reco}/n_{true}>$')\n",
    "\n",
    "    # Log X-axis    \n",
    "    axes[iax][1].errorbar(logxvalues, \\\n",
    "                          lowlevel_config.reco_frac_stats_log['mean'][0], \\\n",
    "                          yerr=lowlevel_config.reco_frac_stats_log['std'][0]/np.sqrt(lowlevel_config.reco_frac_stats_log['count'][0]), \\\n",
    "                          fmt=MARKER_STYLES[i%len(MARKER_STYLES)], \\\n",
    "                          label=lowlevel_config.abbreviation)\n",
    "    axes[iax][1].set_xscale('log')\n",
    "    axes[iax][1].set_xlim(1, 1000)\n",
    "    axes[iax][1].set_ylim(0.8, 1.2)\n",
    "    axes[iax][1].grid(True, which='both', axis='both')\n",
    "    axes[iax][1].set_xlabel(r'$n_{true}$ [phe]')\n",
    "    axes[iax][1].set_ylabel(r'$<n_{reco}/n_{true}>$')\n",
    "                         \n",
    "    iax += 1\n",
    "    \n",
    "    axes[iax][0].plot(xvalues, \\\n",
    "                    lowlevel_config.reco_stats['std'][0], MARKER_STYLES[i%len(MARKER_STYLES)], \\\n",
    "                    label=lowlevel_config.abbreviation)\n",
    "    axes[iax][0].grid(True, which='both', axis='both')\n",
    "    axes[iax][0].set_xlim(0, 10)\n",
    "    axes[iax][0].set_ylim(1, 4)\n",
    "    axes[iax][0].set_xlabel(r'$n_{true}$ [phe]')\n",
    "    axes[iax][0].set_ylabel(r'$\\sqrt{Var(n_{reco})}$ [phe]')\n",
    "\n",
    "    axes[iax][1].plot(logxvalues, \\\n",
    "                    lowlevel_config.reco_stats_log['std'][0], MARKER_STYLES[i%len(MARKER_STYLES)], \\\n",
    "                    label=lowlevel_config.abbreviation)\n",
    "    axes[iax][1].set_xscale('log')\n",
    "    axes[iax][1].set_yscale('log')\n",
    "    axes[iax][1].grid(True, which='both', axis='both')\n",
    "    axes[iax][1].set_xlim(1, 1000)\n",
    "    axes[iax][1].set_ylim(1, 100)\n",
    "    axes[iax][1].set_xlabel(r'$n_{true}$ [phe]')\n",
    "    axes[iax][1].set_ylabel(r'$\\sqrt{Var(n_{reco})}$ [phe]')   \n",
    "                         \n",
    "    iax += 1\n",
    "    axes[iax][0].plot(xvalues[1:], \\\n",
    "                    lowlevel_config.reco_stats['std'][0][1:] / \\\n",
    "                    (lowlevel_config.reco_stats['mean'][0][1:]-lowlevel_config.mean_phe_true0), \\\n",
    "                    MARKER_STYLES[i%len(MARKER_STYLES)], \\\n",
    "                    label=lowlevel_config.abbreviation)\n",
    "    axes[iax][0].grid(True, which='both', axis='both')\n",
    "    axes[iax][0].set_xlim(0, 10)\n",
    "    axes[iax][0].set_xlabel(r'$n_{true}$ [phe]')\n",
    "    axes[iax][0].set_ylabel('Resolution') #(r'$\\sqrt{Var(n_{reco})} / (\\bar{n}_{reco}-\\bar{n}_{reco}(n_{true}=0))$')\n",
    "\n",
    "    axes[iax][1].plot(logxvalues[1:], \\\n",
    "                    lowlevel_config.reco_stats['std'][0][1:len(logxvalues)] / \\\n",
    "                    (lowlevel_config.reco_stats['mean'][0][1:len(logxvalues)]-lowlevel_config.mean_phe_true0), \\\n",
    "                    MARKER_STYLES[i%len(MARKER_STYLES)], \\\n",
    "                    label=lowlevel_config.abbreviation)\n",
    "    axes[iax][1].set_xscale('log')\n",
    "    axes[iax][1].set_yscale('log')\n",
    "    axes[iax][1].grid(True, which='both', axis='both')\n",
    "    axes[iax][1].set_xlim(1, 1000)\n",
    "    #axes[iax][0].set_ylim(0, 3)\n",
    "    axes[iax][1].set_xlabel(r'$n_{true}$ [phe]')\n",
    "    axes[iax][1].set_ylabel('Resolution')#r'$\\sqrt{Var(n_{reco})} / (\\bar{n}_{reco}-\\bar{n}_{reco}(n_{true}=0))$')\n",
    "    \n",
    "    iax += 1\n",
    "    axes[iax][0].plot(xvalues[1:], \\\n",
    "                      lowlevel_config.reco_stats['std'][0][1:] / \\\n",
    "                      lowlevel_config_benchmark.reco_stats['std'][0][1:] / \\\n",
    "                      (lowlevel_config.reco_stats['mean'][0][1:]-lowlevel_config.mean_phe_true0) * \\\n",
    "                      (lowlevel_config_benchmark.reco_stats['mean'][0][1:]-lowlevel_config_benchmark.mean_phe_true0), \\\n",
    "                      MARKER_STYLES[i%len(MARKER_STYLES)], label=lowlevel_config.abbreviation)\n",
    "    axes[iax][0].grid(True, which='both', axis='both')\n",
    "    axes[iax][0].set_xlim(0, 10)\n",
    "    axes[iax][0].set_ylim(0.25, 1.75)\n",
    "    axes[iax][0].set_xlabel(r'$n_{true}$ [phe]')\n",
    "    axes[iax][0].set_ylabel('Resolution relative to {0}'.format(lowlevel_config_benchmark.abbreviation))    \n",
    "\n",
    "    axes[iax][1].plot(logxvalues[1:], \\\n",
    "                      lowlevel_config.reco_stats['std'][0][1:len(logxvalues)] / \\\n",
    "                      lowlevel_config_benchmark.reco_stats['std'][0][1:len(logxvalues)] / \\\n",
    "                      (lowlevel_config.reco_stats['mean'][0][1:len(logxvalues)]-lowlevel_config.mean_phe_true0) * \\\n",
    "                      (lowlevel_config_benchmark.reco_stats['mean'][0][1:len(logxvalues)]-lowlevel_config_benchmark.mean_phe_true0), \\\n",
    "                      MARKER_STYLES[i%len(MARKER_STYLES)], label=lowlevel_config.abbreviation)\n",
    "    axes[iax][1].set_xscale('log')\n",
    "    #axes[iax][1].set_yscale('log')\n",
    "    axes[iax][1].grid(True, which='both', axis='both')\n",
    "    axes[iax][1].set_xlim(1, 1000)\n",
    "    #axes[iax][0].set_ylim(0, 3)\n",
    "    axes[iax][1].set_xlabel(r'$n_{true}$ [phe]')\n",
    "    axes[iax][1].set_ylabel('Resolution relative to {0}'.format(lowlevel_config_benchmark.abbreviation))\n",
    "    \n",
    "axes[0][0].legend(loc=0)   \n",
    "axes[2][0].legend(loc=0)\n",
    "axes[5][1].legend(loc=0)\n",
    "plt.tight_layout()    "
   ]
  },
  {
   "cell_type": "markdown",
   "id": "4e026ac9",
   "metadata": {},
   "source": [
    "## Distribution for specific-phe-number events"
   ]
  },
  {
   "cell_type": "code",
   "execution_count": null,
   "id": "45753a1e",
   "metadata": {},
   "outputs": [],
   "source": [
    "list_true_phes = [0, 3, 6, 10] #List of the true photoelectron numbers to draw the distribution of the reconstructed phe\n",
    "mask_truephe = {}\n",
    "true_phe_bins = np.linspace(-10, 30, 81)\n",
    "\n",
    "for tphe in list_true_phes:\n",
    "    mask_truephe[tphe] = np.array(true_phe!=tphe)\n",
    "    logger.debug('True {0}-phe events: {1}'.format(tphe, sum(1-mask_truephe[tphe])))\n",
    "\n",
    "for i, lowlevel_config in enumerate(lowlevel_configs):\n",
    "    \n",
    "    for tphe in list_true_phes:\n",
    "        lowlevel_config.reco_phe_hists[tphe] = np.histogram(lowlevel_config.dl1_reco_phe, \\\n",
    "                                                            weights=[float(1-m) for m in mask_truephe[tphe]], \\\n",
    "                                                            bins=true_phe_bins)"
   ]
  },
  {
   "cell_type": "code",
   "execution_count": null,
   "id": "a679a3de",
   "metadata": {},
   "outputs": [],
   "source": [
    "fig, axes = plt.subplots(len(lowlevel_configs), 1, figsize=(8, 4*len(lowlevel_configs)))\n",
    "for i, image_extracter_config in enumerate(lowlevel_configs):\n",
    "    for j, tphe in enumerate(list_true_phes):\n",
    "        axes[i].hist(lowlevel_config.reco_phe_hists[tphe][1][:-1], \\\n",
    "                        lowlevel_config.reco_phe_hists[tphe][1], \\\n",
    "                        weights=lowlevel_config.reco_phe_hists[tphe][0]/sum(lowlevel_config.reco_phe_hists[tphe][0]), \\\n",
    "                        label=r'$n_{{true}}={{{0}}}$ phe'.format(tphe), histtype='step')#, alpha=0.2)\n",
    "    axes[i].set_title(lowlevel_config.abbreviation)\n",
    "    axes[i].grid(True, which='major', axis='x')\n",
    "    axes[i].set_xlabel(r'$n_{reco}$ [phe]')\n",
    "    axes[i].legend(loc=0)    \n",
    "plt.tight_layout()  "
   ]
  },
  {
   "cell_type": "markdown",
   "id": "4ff8bf31",
   "metadata": {},
   "source": [
    "## ROC Curve"
   ]
  },
  {
   "cell_type": "code",
   "execution_count": null,
   "id": "c09a3c1a",
   "metadata": {},
   "outputs": [],
   "source": [
    "sig_phes = [3, 6, 10]\n",
    "fig, axes = plt.subplots(len(sig_phes), 1, figsize=(10, 6*len(sig_phes)))\n",
    "\n",
    "for i, sig_phe in enumerate(sig_phes):\n",
    "    for j, lowlevel_config in enumerate(lowlevel_configs):\n",
    "        xvals, yvals = lowlevel_config.get_roc_curve(sig_phe=sig_phe)\n",
    "        axes[i].plot(xvals, yvals, label=lowlevel_config.abbreviation, ls=LINE_STYLES[j%len(LINE_STYLES)])\n",
    "    axes[i].set_title(r'$n_{{true}}={0}$ phe'.format(sig_phe))\n",
    "    axes[i].grid(True, which='major', axis='both')\n",
    "    axes[i].set_yscale('log')\n",
    "    axes[i].set_ylim(1e-3, 1)\n",
    "    axes[i].set_xlabel('Signal acceptance')\n",
    "    axes[i].set_ylabel('Background residual')\n",
    "    axes[i].legend(loc=0)    \n",
    "plt.tight_layout()  "
   ]
  },
  {
   "cell_type": "markdown",
   "id": "a6275fd4",
   "metadata": {},
   "source": [
    "# Separation power evaluation\n",
    "Not working well yet"
   ]
  },
  {
   "cell_type": "code",
   "execution_count": null,
   "id": "5ce6fb8f",
   "metadata": {},
   "outputs": [],
   "source": [
    "for i, lowlevel_config in enumerate(lowlevel_configs):\n",
    "    logger.info(lowlevel_config.name)\n",
    "    lowlevel_config.find_best_separation('error', [0,3])"
   ]
  },
  {
   "cell_type": "code",
   "execution_count": null,
   "id": "69603f51",
   "metadata": {},
   "outputs": [],
   "source": [
    "for i, lowlevel_config in enumerate(lowlevel_configs):\n",
    "    logger.info(lowlevel_config.name)\n",
    "    lowlevel_config.find_best_separation('error', [0,6])"
   ]
  },
  {
   "cell_type": "code",
   "execution_count": null,
   "id": "c7689aef",
   "metadata": {},
   "outputs": [],
   "source": [
    "for i, lowlevel_config in enumerate(lowlevel_configs):\n",
    "    logger.info(lowlevel_config.name)\n",
    "    lowlevel_config.find_best_separation('error', [0,10])"
   ]
  },
  {
   "cell_type": "markdown",
   "id": "18d26b9f",
   "metadata": {},
   "source": [
    "# Hillas Parameters"
   ]
  },
  {
   "cell_type": "code",
   "execution_count": null,
   "id": "85968caa",
   "metadata": {},
   "outputs": [],
   "source": [
    "fig, axes = plt.subplots(len(HILLASES_OF_INTEREST), 1, figsize=(10, 6*len(HILLASES_OF_INTEREST)))\n",
    "\n",
    "for i, param in enumerate(HILLASES_OF_INTEREST):\n",
    "    for j, lowlevel_config in enumerate(lowlevel_configs):\n",
    "        vals = lowlevel_config.parameter_value_dict[param]\n",
    "        if j==0:\n",
    "            hist_result = axes[i].hist(vals, lw=2, bins=20, histtype=\"step\", label=lowlevel_config.abbreviation)\n",
    "        else:\n",
    "            axes[i].hist(vals, lw=2, bins=hist_result[1], histtype=\"step\", label=lowlevel_config.abbreviation)\n",
    "    #axes[i].set_title(param)\n",
    "    axes[i].grid(True, which='major', axis='both')\n",
    "    #axes[i].set_yscale('log')\n",
    "    #axes[i].set_ylim(1e-3, 1)\n",
    "    axes[i].set_xlabel(param)\n",
    "    axes[i].set_ylabel('[events]')\n",
    "    axes[i].legend(loc=0)    \n",
    "plt.tight_layout()  "
   ]
  },
  {
   "cell_type": "code",
   "execution_count": null,
   "id": "802c22c9",
   "metadata": {},
   "outputs": [],
   "source": []
  },
  {
   "cell_type": "code",
   "execution_count": null,
   "id": "d651d94b",
   "metadata": {},
   "outputs": [],
   "source": []
  }
 ],
 "metadata": {
  "kernelspec": {
   "display_name": "Python 3",
   "language": "python",
   "name": "python3"
  },
  "language_info": {
   "codemirror_mode": {
    "name": "ipython",
    "version": 3
   },
   "file_extension": ".py",
   "mimetype": "text/x-python",
   "name": "python",
   "nbconvert_exporter": "python",
   "pygments_lexer": "ipython3",
   "version": "3.7.10"
  }
 },
 "nbformat": 4,
 "nbformat_minor": 5
}
