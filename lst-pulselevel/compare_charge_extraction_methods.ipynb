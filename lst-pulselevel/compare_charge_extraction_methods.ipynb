{
 "cells": [
  {
   "cell_type": "code",
   "execution_count": 1,
   "id": "e4695e76",
   "metadata": {},
   "outputs": [],
   "source": [
    "import matplotlib\n",
    "import matplotlib.pyplot as plt\n",
    "from pylab import rcParams\n",
    "import math\n",
    "import numpy as np\n",
    "import numpy.ma as ma\n",
    "import os\n",
    "import pandas as pd\n",
    "import matplotlib.pyplot as plt\n",
    "from glob import glob\n",
    "from pathlib import Path\n",
    "import tables\n",
    "\n",
    "import astropy.units as u\n",
    "from astropy.io import fits\n",
    "from astropy.table import Table, vstack\n",
    "\n",
    "from traitlets.config.loader import Config\n",
    "from ctapipe_io_lst import LSTEventSource\n",
    "from ctapipe.instrument import CameraGeometry\n",
    "from ctapipe.visualization import CameraDisplay\n",
    "from ctapipe.image import hillas_parameters\n",
    "\n",
    "from lstchain.io.config import read_configuration_file\n",
    "import lstchain.reco.utils as utils\n",
    "from lstchain.reco import r0_to_dl1\n",
    "from lstchain.io.io import dl1_images_lstcam_key, dl1_params_tel_mon_ped_key, dl1_params_tel_mon_cal_key, dl1_params_lstcam_key, dl1_params_src_dep_lstcam_key\n",
    "\n",
    "from ctapipe.utils import get_dataset_path\n",
    "from ctapipe.io import EventSource\n",
    "from ctapipe.io.eventseeker import EventSeeker\n",
    "#import astropy.units as u\n",
    "#from copy import deepcopy\n",
    "\n",
    "from scipy.stats import binned_statistic\n",
    "\n",
    "from ImageExtracterConfig import ImageExtracterConfig"
   ]
  },
  {
   "cell_type": "code",
   "execution_count": 2,
   "id": "ccc94c16",
   "metadata": {},
   "outputs": [],
   "source": [
    "from logging import getLogger,StreamHandler,DEBUG,INFO,WARNING,ERROR,CRITICAL\n",
    "\n",
    "##### Logger #####\n",
    "logger = getLogger(__name__)\n",
    "handler = StreamHandler()\n",
    "loglevel = 'INFO'\n",
    "handler.setLevel(loglevel)\n",
    "logger.setLevel(loglevel)\n",
    "logger.addHandler(handler)"
   ]
  },
  {
   "cell_type": "code",
   "execution_count": 3,
   "id": "69727adb",
   "metadata": {},
   "outputs": [
    {
     "name": "stderr",
     "output_type": "stream",
     "text": [
      "0.7.3.post19+gitdeabb5c\n"
     ]
    }
   ],
   "source": [
    "from lstchain import __version__ as lstchain_version\n",
    "logger.info(lstchain_version)"
   ]
  },
  {
   "cell_type": "code",
   "execution_count": 4,
   "id": "431fae01",
   "metadata": {},
   "outputs": [],
   "source": [
    "# Matplotlib setup\n",
    "plt.rcParams[\"font.size\"] = 13\n",
    "\n",
    "LINE_STYLES = [\"solid\", \"dashed\", \"dashdot\", \"dotted\"]\n",
    "MARKER_STYLES = ['o', 's', 'x', '+', 'D', 'X', 'p', 'd', '<', '>', '^', 'v', 'H']"
   ]
  },
  {
   "cell_type": "markdown",
   "id": "3d205df5",
   "metadata": {},
   "source": [
    "# Config of ImageExtracter"
   ]
  },
  {
   "cell_type": "code",
   "execution_count": 5,
   "id": "f551ef78",
   "metadata": {},
   "outputs": [],
   "source": [
    "# Replace OUTPUT_DIR_PATH by your directory\n",
    "OUTPUT_DIR_PATH = Path('/home/mitsunari.takahashi/Work/analysis/low-level/ChargeExtraction_test')\n",
    "if not OUTPUT_DIR_PATH.exists():\n",
    "    os.makedirs(OUTPUT_DIR_PATH)"
   ]
  },
  {
   "cell_type": "markdown",
   "id": "797e1fb2",
   "metadata": {},
   "source": [
    "## List of confugurations to evaluate  "
   ]
  },
  {
   "cell_type": "code",
   "execution_count": 6,
   "id": "3b9952c0",
   "metadata": {},
   "outputs": [],
   "source": [
    "image_extracter_configs = []\n",
    "\n",
    "# LocalPeakWindowSum\n",
    "for window_width in (5,):\n",
    "    window_shift = int(window_width/2)\n",
    "    image_extracter_configs.append(ImageExtracterConfig('LocalPeakWindowSum', \n",
    "                                                        {'window_shift':window_shift,\n",
    "                                                         'window_width':window_width,\n",
    "                                                         'apply_integration_correction':'true'}, \n",
    "                                                       output_dir_path=OUTPUT_DIR_PATH, \n",
    "                                                       config_dir_path=OUTPUT_DIR_PATH))\n",
    "    \n",
    "# NeighborPeakWindowSum\n",
    "for window_width in (5,):\n",
    "    window_shift = int(window_width/2)\n",
    "    for lwt in (0, ):#1):\n",
    "        image_extracter_configs.append(ImageExtracterConfig('NeighborPeakWindowSum', \n",
    "                                                            {'window_shift':window_shift, \n",
    "                                                             'window_width':window_width,\n",
    "                                                             'lwt':lwt,\n",
    "                                                             'apply_integration_correction':'true'}, \n",
    "                                                       output_dir_path=OUTPUT_DIR_PATH, \n",
    "                                                       config_dir_path=OUTPUT_DIR_PATH))\n",
    "        \n",
    "# SlidingWindowMaxSum\n",
    "for window_width in (5,):\n",
    "    image_extracter_configs.append(ImageExtracterConfig('SlidingWindowMaxSum', \n",
    "                                                        {'window_width':window_width,\n",
    "                                                         'apply_integration_correction':'true'}, \n",
    "                                                       output_dir_path=OUTPUT_DIR_PATH, \n",
    "                                                       config_dir_path=OUTPUT_DIR_PATH))\n",
    "\n",
    "# TwoPassWindowSum\n",
    "for core_threshold in (6,):\n",
    "    image_extracter_configs.append(ImageExtracterConfig('TwoPassWindowSum', \n",
    "                                                        {'core_threshold':core_threshold, \n",
    "                                                         'disable_second_pass':'false',\n",
    "                                                         'apply_integration_correction':'true'}, \n",
    "                                                       output_dir_path=OUTPUT_DIR_PATH, \n",
    "                                                       config_dir_path=OUTPUT_DIR_PATH))\n",
    "    \n",
    "# FullWaveformSum\n",
    "image_extracter_configs.append(ImageExtracterConfig('FullWaveformSum', \n",
    "                                                    output_dir_path=OUTPUT_DIR_PATH, \n",
    "                                                    config_dir_path=OUTPUT_DIR_PATH))\n",
    "\n",
    "# Write the config files down         \n",
    "for c in image_extracter_configs:\n",
    "    c.write_configfile()"
   ]
  },
  {
   "cell_type": "markdown",
   "id": "a41499ef",
   "metadata": {},
   "source": [
    "# MC DL0 data"
   ]
  },
  {
   "cell_type": "code",
   "execution_count": 7,
   "id": "abd29112",
   "metadata": {},
   "outputs": [],
   "source": [
    "dl0_path = Path('/fefs/aswg/workspace/yoshiki.ohtani/Data/LaPalma/4LSTs_MAGIC/gamma-diffuse/zenith_20deg/south_pointing/run1000/sim_telarray_v3_trans_80%/cta-prod5-lapalma_4LSTs_MAGIC/0.0deg/Data/gamma_20deg_180deg_run1000___cta-prod5-lapalma_4LSTs_MAGIC_desert-2158m_mono_cone6.simtel.gz')\n",
    "#dl0_path = Path('/fefs/aswg/data/mc/DL0/20200629_prod5/gamma-diffuse/zenith_20deg/south_pointing/gamma_20deg_180deg_run1___cta-prod5-lapalma_4LSTs_MAGIC_desert-2158m_mono_cone6.simtel.gz')"
   ]
  },
  {
   "cell_type": "code",
   "execution_count": 8,
   "id": "464631fc",
   "metadata": {},
   "outputs": [],
   "source": [
    "tel_id = 1 #LST-1\n",
    "allowed_tels = {tel_id}\n",
    "source = EventSource(dl0_path)\n",
    "source.allowed_tels = allowed_tels"
   ]
  },
  {
   "cell_type": "code",
   "execution_count": 9,
   "id": "091dc92e",
   "metadata": {},
   "outputs": [],
   "source": [
    "counter = 0\n",
    "true_phe = []\n",
    "true_log10_phe = []\n",
    "\n",
    "for event in source:\n",
    "    event_id = event.index.event_id\n",
    "    true_image = event.simulation.tel[tel_id].true_image\n",
    "    for trimg in true_image:\n",
    "        true_phe.append(trimg)\n",
    "        true_log10_phe.append(np.log10(max(0.1,trimg)))\n",
    "    counter+=1\n",
    "logger.debug(counter)      "
   ]
  },
  {
   "cell_type": "code",
   "execution_count": 10,
   "id": "28b01416",
   "metadata": {},
   "outputs": [],
   "source": [
    "true_phe = np.array(true_phe)\n",
    "true_log10_phe = np.array(true_log10_phe)"
   ]
  },
  {
   "cell_type": "markdown",
   "id": "340fabfb",
   "metadata": {},
   "source": [
    "# DL1 data"
   ]
  },
  {
   "cell_type": "code",
   "execution_count": 11,
   "id": "17ef7bf3",
   "metadata": {},
   "outputs": [
    {
     "name": "stderr",
     "output_type": "stream",
     "text": [
      "LocalPeakWindowSum_window_shift2_window_width5_apply_integration_correctiontrue\n",
      "/home/mitsunari.takahashi/Work/analysis/low-level/ChargeExtraction_test/LocalPeakWindowSum_window_shift2_window_width5_apply_integration_correctiontrue/dl1_gamma_20deg_180deg_run1000___cta-prod5-lapalma_4LSTs_MAGIC_desert-2158m_mono_cone6.h5 already exists! It was modified 1 hr 30 min before.\n",
      "NeighborPeakWindowSum_window_shift2_window_width5_lwt0_apply_integration_correctiontrue\n",
      "/home/mitsunari.takahashi/Work/analysis/low-level/ChargeExtraction_test/NeighborPeakWindowSum_window_shift2_window_width5_lwt0_apply_integration_correctiontrue/dl1_gamma_20deg_180deg_run1000___cta-prod5-lapalma_4LSTs_MAGIC_desert-2158m_mono_cone6.h5 already exists! It was modified 0 hr 27 min before.\n",
      "SlidingWindowMaxSum_window_width5_apply_integration_correctiontrue\n",
      "/home/mitsunari.takahashi/Work/analysis/low-level/ChargeExtraction_test/SlidingWindowMaxSum_window_width5_apply_integration_correctiontrue/dl1_gamma_20deg_180deg_run1000___cta-prod5-lapalma_4LSTs_MAGIC_desert-2158m_mono_cone6.h5 already exists! It was modified 0 hr 26 min before.\n",
      "TwoPassWindowSum_core_threshold6_disable_second_passfalse_apply_integration_correctiontrue\n",
      "/home/mitsunari.takahashi/Work/analysis/low-level/ChargeExtraction_test/TwoPassWindowSum_core_threshold6_disable_second_passfalse_apply_integration_correctiontrue/dl1_gamma_20deg_180deg_run1000___cta-prod5-lapalma_4LSTs_MAGIC_desert-2158m_mono_cone6.h5 already exists! It was modified 0 hr 24 min before.\n",
      "FullWaveformSum\n",
      "/home/mitsunari.takahashi/Work/analysis/low-level/ChargeExtraction_test/FullWaveformSum/dl1_gamma_20deg_180deg_run1000___cta-prod5-lapalma_4LSTs_MAGIC_desert-2158m_mono_cone6.h5 already exists! It was modified 0 hr 23 min before.\n"
     ]
    }
   ],
   "source": [
    "for image_extracter_config in image_extracter_configs:\n",
    "    logger.info(image_extracter_config.config_name)\n",
    "    dl1_production_result = image_extracter_config.produce_mc_dl1(dl0_path=dl0_path)\n",
    "    if dl1_production_result!=0:\n",
    "        logger.error('Producing DL1 file failed!!')"
   ]
  },
  {
   "cell_type": "markdown",
   "id": "17dab30d",
   "metadata": {},
   "source": [
    "## DL1 Data Readout"
   ]
  },
  {
   "cell_type": "code",
   "execution_count": 12,
   "id": "e83ce827",
   "metadata": {},
   "outputs": [],
   "source": [
    "for image_extracter_config in image_extracter_configs:\n",
    "    image_extracter_config.read_dl1()"
   ]
  },
  {
   "cell_type": "code",
   "execution_count": 13,
   "id": "df8673eb",
   "metadata": {},
   "outputs": [],
   "source": [
    "for image_extracter_config in image_extracter_configs:\n",
    "    image_extracter_config.calc_correlations(true_phe)"
   ]
  },
  {
   "cell_type": "markdown",
   "id": "8f88c55c",
   "metadata": {},
   "source": [
    "# Plot"
   ]
  },
  {
   "cell_type": "code",
   "execution_count": null,
   "id": "48dfc9e3",
   "metadata": {
    "scrolled": true
   },
   "outputs": [
    {
     "name": "stderr",
     "output_type": "stream",
     "text": [
      "/home/mitsunari.takahashi/miniconda3/envs/lst-dev/lib/python3.7/site-packages/ipykernel_launcher.py:46: RuntimeWarning: invalid value encountered in true_divide\n",
      "/home/mitsunari.takahashi/miniconda3/envs/lst-dev/lib/python3.7/site-packages/ipykernel_launcher.py:52: UserWarning: Attempted to set non-positive bottom ylim on a log-scaled axis.\n",
      "Invalid limit will be ignored.\n",
      "/home/mitsunari.takahashi/miniconda3/envs/lst-dev/lib/python3.7/site-packages/ipykernel_launcher.py:60: RuntimeWarning: invalid value encountered in true_divide\n",
      "/home/mitsunari.takahashi/miniconda3/envs/lst-dev/lib/python3.7/site-packages/ipykernel_launcher.py:75: RuntimeWarning: invalid value encountered in true_divide\n",
      "/home/mitsunari.takahashi/miniconda3/envs/lst-dev/lib/python3.7/site-packages/ipykernel_launcher.py:87: RuntimeWarning: invalid value encountered in true_divide\n",
      "/home/mitsunari.takahashi/miniconda3/envs/lst-dev/lib/python3.7/site-packages/ipykernel_launcher.py:147: RuntimeWarning: invalid value encountered in true_divide\n",
      "/home/mitsunari.takahashi/miniconda3/envs/lst-dev/lib/python3.7/site-packages/ipykernel_launcher.py:46: RuntimeWarning: invalid value encountered in true_divide\n",
      "/home/mitsunari.takahashi/miniconda3/envs/lst-dev/lib/python3.7/site-packages/ipykernel_launcher.py:52: UserWarning: Attempted to set non-positive bottom ylim on a log-scaled axis.\n",
      "Invalid limit will be ignored.\n",
      "/home/mitsunari.takahashi/miniconda3/envs/lst-dev/lib/python3.7/site-packages/ipykernel_launcher.py:60: RuntimeWarning: invalid value encountered in true_divide\n",
      "/home/mitsunari.takahashi/miniconda3/envs/lst-dev/lib/python3.7/site-packages/ipykernel_launcher.py:75: RuntimeWarning: invalid value encountered in true_divide\n",
      "/home/mitsunari.takahashi/miniconda3/envs/lst-dev/lib/python3.7/site-packages/ipykernel_launcher.py:87: RuntimeWarning: invalid value encountered in true_divide\n",
      "/home/mitsunari.takahashi/miniconda3/envs/lst-dev/lib/python3.7/site-packages/ipykernel_launcher.py:147: RuntimeWarning: invalid value encountered in true_divide\n",
      "/home/mitsunari.takahashi/miniconda3/envs/lst-dev/lib/python3.7/site-packages/ipykernel_launcher.py:46: RuntimeWarning: invalid value encountered in true_divide\n",
      "/home/mitsunari.takahashi/miniconda3/envs/lst-dev/lib/python3.7/site-packages/ipykernel_launcher.py:52: UserWarning: Attempted to set non-positive bottom ylim on a log-scaled axis.\n",
      "Invalid limit will be ignored.\n",
      "/home/mitsunari.takahashi/miniconda3/envs/lst-dev/lib/python3.7/site-packages/ipykernel_launcher.py:60: RuntimeWarning: invalid value encountered in true_divide\n",
      "/home/mitsunari.takahashi/miniconda3/envs/lst-dev/lib/python3.7/site-packages/ipykernel_launcher.py:75: RuntimeWarning: invalid value encountered in true_divide\n",
      "/home/mitsunari.takahashi/miniconda3/envs/lst-dev/lib/python3.7/site-packages/ipykernel_launcher.py:87: RuntimeWarning: invalid value encountered in true_divide\n",
      "/home/mitsunari.takahashi/miniconda3/envs/lst-dev/lib/python3.7/site-packages/ipykernel_launcher.py:147: RuntimeWarning: invalid value encountered in true_divide\n",
      "/home/mitsunari.takahashi/miniconda3/envs/lst-dev/lib/python3.7/site-packages/ipykernel_launcher.py:46: RuntimeWarning: invalid value encountered in true_divide\n",
      "/home/mitsunari.takahashi/miniconda3/envs/lst-dev/lib/python3.7/site-packages/ipykernel_launcher.py:52: UserWarning: Attempted to set non-positive bottom ylim on a log-scaled axis.\n",
      "Invalid limit will be ignored.\n",
      "/home/mitsunari.takahashi/miniconda3/envs/lst-dev/lib/python3.7/site-packages/ipykernel_launcher.py:60: RuntimeWarning: invalid value encountered in true_divide\n",
      "/home/mitsunari.takahashi/miniconda3/envs/lst-dev/lib/python3.7/site-packages/ipykernel_launcher.py:75: RuntimeWarning: invalid value encountered in true_divide\n",
      "/home/mitsunari.takahashi/miniconda3/envs/lst-dev/lib/python3.7/site-packages/ipykernel_launcher.py:87: RuntimeWarning: invalid value encountered in true_divide\n",
      "/home/mitsunari.takahashi/miniconda3/envs/lst-dev/lib/python3.7/site-packages/ipykernel_launcher.py:147: RuntimeWarning: invalid value encountered in true_divide\n",
      "/home/mitsunari.takahashi/miniconda3/envs/lst-dev/lib/python3.7/site-packages/ipykernel_launcher.py:46: RuntimeWarning: invalid value encountered in true_divide\n",
      "/home/mitsunari.takahashi/miniconda3/envs/lst-dev/lib/python3.7/site-packages/ipykernel_launcher.py:52: UserWarning: Attempted to set non-positive bottom ylim on a log-scaled axis.\n",
      "Invalid limit will be ignored.\n",
      "/home/mitsunari.takahashi/miniconda3/envs/lst-dev/lib/python3.7/site-packages/ipykernel_launcher.py:60: RuntimeWarning: invalid value encountered in true_divide\n",
      "/home/mitsunari.takahashi/miniconda3/envs/lst-dev/lib/python3.7/site-packages/ipykernel_launcher.py:75: RuntimeWarning: invalid value encountered in true_divide\n",
      "/home/mitsunari.takahashi/miniconda3/envs/lst-dev/lib/python3.7/site-packages/ipykernel_launcher.py:87: RuntimeWarning: invalid value encountered in true_divide\n",
      "/home/mitsunari.takahashi/miniconda3/envs/lst-dev/lib/python3.7/site-packages/ipykernel_launcher.py:147: RuntimeWarning: invalid value encountered in true_divide\n"
     ]
    }
   ],
   "source": [
    "image_extracter_config_benchmark = image_extracter_configs[0]\n",
    "\n",
    "fig, axes = plt.subplots(6, 2, figsize=(10, 25))\n",
    "for i, image_extracter_config in enumerate(image_extracter_configs):\n",
    "    \n",
    "    iax = 0\n",
    "    \n",
    "    # Linear X-axis\n",
    "    xvalues = (image_extracter_config.reco_stats['mean'][1][:-1])\n",
    "    \n",
    "    # Log X-axis    \n",
    "    logxvalues = (image_extracter_config.reco_stats_log['mean'][1][:-1])\n",
    "        \n",
    "    # Event count \n",
    "    axes[iax][0].errorbar(xvalues, \\\n",
    "                          image_extracter_config.reco_stats['count'][0], \\\n",
    "                          yerr=np.sqrt(image_extracter_config.reco_stats['count'][0]), \\\n",
    "                          fmt=MARKER_STYLES[i%len(MARKER_STYLES)], \\\n",
    "                          label=image_extracter_config.abbreviation)\n",
    "    axes[iax][0].grid(True, which='major', axis='both')\n",
    "    axes[iax][0].set_yscale('log')\n",
    "    axes[iax][0].set_xlim(-1, 10)\n",
    "    axes[iax][0].set_ylim(100, 1e7)\n",
    "    axes[iax][0].set_xlabel(r'$n_{true}$ [phe]')\n",
    "    axes[iax][0].set_ylabel('[events]')\n",
    "    #axes[iax][0].legend(loc=0)\n",
    "\n",
    "\n",
    "    axes[iax][1].errorbar(logxvalues, \\\n",
    "                          image_extracter_config.reco_stats_log['count'][0], \\\n",
    "                          yerr=np.sqrt(image_extracter_config.reco_stats_log['count'][0]), \\\n",
    "                          fmt=MARKER_STYLES[i%len(MARKER_STYLES)], \\\n",
    "                          label=image_extracter_config.abbreviation)\n",
    "    axes[iax][1].set_xscale('log')\n",
    "    axes[iax][1].set_yscale('log')\n",
    "    axes[iax][1].set_xlim(1, 1000)\n",
    "    #axes[iax][1].set_ylim(1, 1000)\n",
    "    axes[iax][1].grid(True, which='both', axis='both')\n",
    "    axes[iax][1].set_xlabel(r'$n_{true} [phe]$')\n",
    "    axes[iax][1].set_ylabel('[events]')\n",
    "                         \n",
    "    iax += 1\n",
    "        \n",
    "    axes[iax][0].errorbar(xvalues, \\\n",
    "                          image_extracter_config.reco_stats['mean'][0], \\\n",
    "                          yerr=image_extracter_config.reco_stats['std'][0]/np.sqrt(image_extracter_config.reco_stats['count'][0]), \\\n",
    "                          fmt=MARKER_STYLES[i%len(MARKER_STYLES)], \\\n",
    "                          label=image_extracter_config.abbreviation)\n",
    "    axes[iax][0].grid(True, which='both', axis='both')\n",
    "    axes[iax][0].set_yscale('log')\n",
    "    axes[iax][0].set_xlim(-1, 10)\n",
    "    axes[iax][0].set_ylim(-1, 10)\n",
    "    axes[iax][0].set_xlabel(r'$n_{true} [phe]$')\n",
    "    axes[iax][0].set_ylabel(r'$<n_{reco}>$ [phe]')\n",
    "    axes[iax][0].legend(loc=0)\n",
    "\n",
    "\n",
    "    axes[iax][1].errorbar(logxvalues, \\\n",
    "                          image_extracter_config.reco_stats_log['mean'][0], \\\n",
    "                          yerr=image_extracter_config.reco_stats_log['std'][0]/np.sqrt(image_extracter_config.reco_stats_log['count'][0]), \\\n",
    "                          fmt=MARKER_STYLES[i%len(MARKER_STYLES)], \\\n",
    "                          label=image_extracter_config.abbreviation)\n",
    "    axes[iax][1].set_xscale('log')\n",
    "    axes[iax][1].set_yscale('log')\n",
    "    axes[iax][1].set_xlim(1, 1000)\n",
    "    axes[iax][1].set_ylim(1, 1000)\n",
    "    axes[iax][1].grid(True, which='both', axis='both')\n",
    "    axes[iax][1].set_xlabel(r'$n_{true}$ [phe]')\n",
    "    axes[iax][1].set_ylabel(r'$<n_{reco}>$ [phe]')\n",
    "                         \n",
    "    iax += 1\n",
    "\n",
    "    axes[iax][0].errorbar(xvalues[1:], \\\n",
    "                          image_extracter_config.reco_frac_stats['mean'][0][1:], \\\n",
    "                          yerr=image_extracter_config.reco_frac_stats['std'][0][1:]/np.sqrt(image_extracter_config.reco_frac_stats['count'][0][1:]), \\\n",
    "                          fmt=MARKER_STYLES[i%len(MARKER_STYLES)], \\\n",
    "                    label=image_extracter_config.abbreviation)\n",
    "    axes[iax][0].grid(True, which='both', axis='both')\n",
    "    axes[iax][0].set_xlim(-1, 10)\n",
    "    axes[iax][0].set_ylim(0, 3)\n",
    "    axes[iax][0].set_xlabel(r'$n_{true}$ [phe]')\n",
    "    axes[iax][0].set_ylabel(r'$<n_{reco}/n_{true}>$')\n",
    "\n",
    "    # Log X-axis    \n",
    "    axes[iax][1].errorbar(logxvalues, \\\n",
    "                          image_extracter_config.reco_frac_stats_log['mean'][0], \\\n",
    "                          yerr=image_extracter_config.reco_frac_stats_log['std'][0]/np.sqrt(image_extracter_config.reco_frac_stats_log['count'][0]), \\\n",
    "                          fmt=MARKER_STYLES[i%len(MARKER_STYLES)], \\\n",
    "                          label=image_extracter_config.abbreviation)\n",
    "    axes[iax][1].set_xscale('log')\n",
    "    axes[iax][1].set_xlim(1, 1000)\n",
    "    axes[iax][1].set_ylim(0., 3)\n",
    "    axes[iax][1].grid(True, which='both', axis='both')\n",
    "    axes[iax][1].set_xlabel(r'$n_{true}$ [phe]')\n",
    "    axes[iax][1].set_ylabel(r'$<n_{reco}/n_{true}>$')\n",
    "                         \n",
    "    iax += 1\n",
    "    \n",
    "    axes[iax][0].plot(xvalues, \\\n",
    "                    image_extracter_config.reco_stats['std'][0], MARKER_STYLES[i%len(MARKER_STYLES)], \\\n",
    "                    label=image_extracter_config.abbreviation)\n",
    "    axes[iax][0].grid(True, which='both', axis='both')\n",
    "    axes[iax][0].set_xlim(0, 10)\n",
    "    axes[iax][0].set_ylim(1, 4)\n",
    "    axes[iax][0].set_xlabel(r'$n_{true}$ [phe]')\n",
    "    axes[iax][0].set_ylabel(r'$\\sqrt{Var(n_{reco})}$ [phe]')\n",
    "\n",
    "    axes[iax][1].plot(logxvalues, \\\n",
    "                    image_extracter_config.reco_stats_log['std'][0], MARKER_STYLES[i%len(MARKER_STYLES)], \\\n",
    "                    label=image_extracter_config.abbreviation)\n",
    "    axes[iax][1].set_xscale('log')\n",
    "    axes[iax][1].set_yscale('log')\n",
    "    axes[iax][1].grid(True, which='both', axis='both')\n",
    "    axes[iax][1].set_xlim(1, 1000)\n",
    "    axes[iax][1].set_ylim(1, 100)\n",
    "    axes[iax][1].set_xlabel(r'$n_{true}$ [phe]')\n",
    "    axes[iax][1].set_ylabel(r'$\\sqrt{Var(n_{reco})}$ [phe]')   \n",
    "                         \n",
    "    iax += 1\n",
    "    axes[iax][0].plot(xvalues[1:], \\\n",
    "                    image_extracter_config.reco_stats['std'][0][1:] / \\\n",
    "                    (image_extracter_config.reco_stats['mean'][0][1:]-image_extracter_config.mean_phe_true0), \\\n",
    "                    MARKER_STYLES[i%len(MARKER_STYLES)], \\\n",
    "                    label=image_extracter_config.abbreviation)\n",
    "    axes[iax][0].grid(True, which='both', axis='both')\n",
    "    axes[iax][0].set_xlim(0, 10)\n",
    "    axes[iax][0].set_xlabel(r'$n_{true}$ [phe]')\n",
    "    axes[iax][0].set_ylabel('Resolution') #(r'$\\sqrt{Var(n_{reco})} / (\\bar{n}_{reco}-\\bar{n}_{reco}(n_{true}=0))$')\n",
    "\n",
    "    axes[iax][1].plot(logxvalues[1:], \\\n",
    "                    image_extracter_config.reco_stats['std'][0][1:len(logxvalues)] / \\\n",
    "                    (image_extracter_config.reco_stats['mean'][0][1:len(logxvalues)]-image_extracter_config.mean_phe_true0), \\\n",
    "                    MARKER_STYLES[i%len(MARKER_STYLES)], \\\n",
    "                    label=image_extracter_config.abbreviation)\n",
    "    axes[iax][1].set_xscale('log')\n",
    "    axes[iax][1].set_yscale('log')\n",
    "    axes[iax][1].grid(True, which='both', axis='both')\n",
    "    axes[iax][1].set_xlim(1, 1000)\n",
    "    #axes[iax][0].set_ylim(0, 3)\n",
    "    axes[iax][1].set_xlabel(r'$n_{true}$ [phe]')\n",
    "    axes[iax][1].set_ylabel('Resolution')#r'$\\sqrt{Var(n_{reco})} / (\\bar{n}_{reco}-\\bar{n}_{reco}(n_{true}=0))$')\n",
    "    \n",
    "    iax += 1\n",
    "    axes[iax][0].plot(xvalues[1:], \\\n",
    "                      image_extracter_config.reco_stats['std'][0][1:] / \\\n",
    "                      image_extracter_config_benchmark.reco_stats['std'][0][1:] / \\\n",
    "                      (image_extracter_config.reco_stats['mean'][0][1:]-image_extracter_config.mean_phe_true0) * \\\n",
    "                      (image_extracter_config_benchmark.reco_stats['mean'][0][1:]-image_extracter_config_benchmark.mean_phe_true0), \\\n",
    "                      MARKER_STYLES[i%len(MARKER_STYLES)], label=image_extracter_config.abbreviation)\n",
    "    axes[iax][0].grid(True, which='both', axis='both')\n",
    "    axes[iax][0].set_xlim(0, 10)\n",
    "    axes[iax][0].set_ylim(0.25, 1.75)\n",
    "    axes[iax][0].set_xlabel(r'$n_{true}$ [phe]')\n",
    "    axes[iax][0].set_ylabel('Resolution relative to {0}'.format(image_extracter_config_benchmark.abbreviation))    \n",
    "\n",
    "    axes[iax][1].plot(logxvalues[1:], \\\n",
    "                      image_extracter_config.reco_stats['std'][0][1:len(logxvalues)] / \\\n",
    "                      image_extracter_config_benchmark.reco_stats['std'][0][1:len(logxvalues)] / \\\n",
    "                      (image_extracter_config.reco_stats['mean'][0][1:len(logxvalues)]-image_extracter_config.mean_phe_true0) * \\\n",
    "                      (image_extracter_config_benchmark.reco_stats['mean'][0][1:len(logxvalues)]-image_extracter_config_benchmark.mean_phe_true0), \\\n",
    "                      MARKER_STYLES[i%len(MARKER_STYLES)], label=image_extracter_config.abbreviation)\n",
    "    axes[iax][1].set_xscale('log')\n",
    "    #axes[iax][1].set_yscale('log')\n",
    "    axes[iax][1].grid(True, which='both', axis='both')\n",
    "    axes[iax][1].set_xlim(1, 1000)\n",
    "    #axes[iax][0].set_ylim(0, 3)\n",
    "    axes[iax][1].set_xlabel(r'$n_{true}$ [phe]')\n",
    "    axes[iax][1].set_ylabel('Resolution relative to {0}'.format(image_extracter_config_benchmark.abbreviation))\n",
    "    \n",
    "axes[0][0].legend(loc=0)   \n",
    "axes[2][1].legend(loc=0)\n",
    "axes[5][1].legend(loc=0)\n",
    "plt.tight_layout()    "
   ]
  },
  {
   "cell_type": "markdown",
   "id": "4e026ac9",
   "metadata": {},
   "source": [
    "## Distribution for specific-phe-number events"
   ]
  },
  {
   "cell_type": "code",
   "execution_count": null,
   "id": "45753a1e",
   "metadata": {},
   "outputs": [],
   "source": [
    "list_true_phes = [0, 3, 6, 10] #List of the true photoelectron numbers to draw the distribution of the reconstructed phe\n",
    "mask_truephe = {}\n",
    "true_phe_bins = np.linspace(-10, 30, 201)\n",
    "\n",
    "for tphe in list_true_phes:\n",
    "    mask_truephe[tphe] = np.array(true_phe!=tphe)\n",
    "    logger.debug('True {0}-phe events: {1}'.format(tphe, sum(1-mask_truephe[tphe])))\n",
    "\n",
    "for i, image_extracter_config in enumerate(image_extracter_configs):\n",
    "    \n",
    "    for tphe in list_true_phes:\n",
    "        image_extracter_config.reco_phe_hists[tphe] = np.histogram(image_extracter_config.dl1_reco_phe, \\\n",
    "                                                                    weights=[float(1-m) for m in mask_truephe[tphe]], \\\n",
    "                                                                  bins=true_phe_bins)"
   ]
  },
  {
   "cell_type": "code",
   "execution_count": null,
   "id": "a679a3de",
   "metadata": {},
   "outputs": [],
   "source": [
    "fig, axes = plt.subplots(len(image_extracter_configs), 1, figsize=(8, 4*len(image_extracter_configs)))\n",
    "for i, image_extracter_config in enumerate(image_extracter_configs):\n",
    "    for j, tphe in enumerate(list_true_phes):\n",
    "        axes[i].hist(image_extracter_config.reco_phe_hists[tphe][1][:-1], \\\n",
    "                        image_extracter_config.reco_phe_hists[tphe][1], \\\n",
    "                        weights=image_extracter_config.reco_phe_hists[tphe][0]/sum(image_extracter_config.reco_phe_hists[tphe][0]), \\\n",
    "                        label=r'$n_{{true}}={{{0}}}$ phe'.format(tphe), histtype='step')#, alpha=0.2)\n",
    "    axes[i].set_title(image_extracter_config.abbreviation)\n",
    "    axes[i].grid(True, which='major', axis='x')\n",
    "    axes[i].set_xlabel(r'$n_{reco}$ [phe]')\n",
    "    axes[i].legend(loc=0)    \n",
    "plt.tight_layout()  "
   ]
  },
  {
   "cell_type": "markdown",
   "id": "4ff8bf31",
   "metadata": {},
   "source": [
    "## ROC Curve"
   ]
  },
  {
   "cell_type": "code",
   "execution_count": null,
   "id": "c09a3c1a",
   "metadata": {},
   "outputs": [],
   "source": [
    "sig_phes = [3, 6, 10]\n",
    "fig, axes = plt.subplots(len(sig_phes), 1, figsize=(10, 6*len(sig_phes)))\n",
    "\n",
    "for i, sig_phe in enumerate(sig_phes):\n",
    "    for j, image_extracter_config in enumerate(image_extracter_configs):\n",
    "        xvals, yvals = image_extracter_config.get_roc_curve(sig_phe=sig_phe)\n",
    "        axes[i].plot(xvals, yvals, label=image_extracter_config.abbreviation, ls=LINE_STYLES[j%len(LINE_STYLES)])\n",
    "    axes[i].set_title(r'$n_{{true}}={0}$ phe'.format(sig_phe))\n",
    "    axes[i].grid(True, which='major', axis='both')\n",
    "    axes[i].set_yscale('log')\n",
    "    axes[i].set_ylim(1e-3, 1)\n",
    "    axes[i].set_xlabel('Signal acceptance')\n",
    "    axes[i].set_ylabel('Background residual')\n",
    "    axes[i].legend(loc=0)    \n",
    "plt.tight_layout()  "
   ]
  },
  {
   "cell_type": "markdown",
   "id": "8633baaf",
   "metadata": {},
   "source": [
    "# Separation power evaluation\n",
    "Not working well yet"
   ]
  },
  {
   "cell_type": "code",
   "execution_count": null,
   "id": "5ce6fb8f",
   "metadata": {},
   "outputs": [],
   "source": [
    "for i, image_extracter_config in enumerate(image_extracter_configs):\n",
    "    logger.info(image_extracter_config.config_name)\n",
    "    image_extracter_config.find_best_separation('error', [0,3])"
   ]
  },
  {
   "cell_type": "code",
   "execution_count": null,
   "id": "69603f51",
   "metadata": {},
   "outputs": [],
   "source": [
    "for i, image_extracter_config in enumerate(image_extracter_configs):\n",
    "    logger.info(image_extracter_config.config_name)\n",
    "    image_extracter_config.find_best_separation('error', [0,6])"
   ]
  },
  {
   "cell_type": "code",
   "execution_count": null,
   "id": "c7689aef",
   "metadata": {},
   "outputs": [],
   "source": [
    "for i, image_extracter_config in enumerate(image_extracter_configs):\n",
    "    logger.info(image_extracter_config.config_name)\n",
    "    image_extracter_config.find_best_separation('error', [0,10])"
   ]
  }
 ],
 "metadata": {
  "kernelspec": {
   "display_name": "Python 3",
   "language": "python",
   "name": "python3"
  },
  "language_info": {
   "codemirror_mode": {
    "name": "ipython",
    "version": 3
   },
   "file_extension": ".py",
   "mimetype": "text/x-python",
   "name": "python",
   "nbconvert_exporter": "python",
   "pygments_lexer": "ipython3",
   "version": "3.7.10"
  }
 },
 "nbformat": 4,
 "nbformat_minor": 5
}
